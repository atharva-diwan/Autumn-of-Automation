{
 "cells": [
  {
   "cell_type": "code",
   "execution_count": 1,
   "metadata": {},
   "outputs": [],
   "source": [
    "import cv2\n",
    "import numpy as np"
   ]
  },
  {
   "cell_type": "code",
   "execution_count": 45,
   "metadata": {},
   "outputs": [],
   "source": [
    "#part1\n",
    "tr1=cv2.imread(\".\\cat.jpg\",0)\n",
    "img = cv2.GaussianBlur(tr1,(3,3),0)\n",
    "grad=cv2.Laplacian(img,cv2.CV_8U,ksize=5)\n",
    "grad_inv=255-grad\n",
    "cv2.imshow('img1',grad_inv)\n",
    "cv2.waitKey(0)\n",
    "cv2.destroyAllWindows()"
   ]
  },
  {
   "cell_type": "code",
   "execution_count": 46,
   "metadata": {},
   "outputs": [],
   "source": [
    "#part2\n",
    "capture = cv2.VideoCapture(0)\n",
    " \n",
    "while(True):\n",
    "     \n",
    "    ret, frame = capture.read()\n",
    "    img_bw=cv2.cvtColor(frame,cv2.COLOR_RGB2GRAY)\n",
    "    img = cv2.GaussianBlur(img_bw,(3,3),0)\n",
    "    img_grad=cv2.Laplacian(img_bw,cv2.CV_8U,ksize=5)\n",
    "    grad_inv=255-img_grad\n",
    "    cv2.imshow('video', grad_inv)\n",
    "     \n",
    "    if cv2.waitKey(1) == 27:\n",
    "        break\n",
    " \n",
    "capture.release()\n",
    "cv2.destroyAllWindows()"
   ]
  },
  {
   "cell_type": "code",
   "execution_count": null,
   "metadata": {},
   "outputs": [],
   "source": []
  }
 ],
 "metadata": {
  "kernelspec": {
   "display_name": "Python 3",
   "language": "python",
   "name": "python3"
  },
  "language_info": {
   "codemirror_mode": {
    "name": "ipython",
    "version": 3
   },
   "file_extension": ".py",
   "mimetype": "text/x-python",
   "name": "python",
   "nbconvert_exporter": "python",
   "pygments_lexer": "ipython3",
   "version": "3.7.7"
  }
 },
 "nbformat": 4,
 "nbformat_minor": 4
}
