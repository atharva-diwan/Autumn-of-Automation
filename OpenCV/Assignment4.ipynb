{
 "cells": [
  {
   "cell_type": "code",
   "execution_count": 1,
   "metadata": {},
   "outputs": [],
   "source": [
    "import cv2\n",
    "import numpy as np"
   ]
  },
  {
   "cell_type": "code",
   "execution_count": 9,
   "metadata": {},
   "outputs": [],
   "source": [
    "im = cv2.imread('all_shapes.jpg',0)\n",
    "ret,thresh = cv2.threshold(im,240,255,0)\n",
    "image, contours, hierarchy = cv2.findContours(thresh,cv2.RETR_TREE,cv2.CHAIN_APPROX_SIMPLE)\n",
    "for cnt in contours:\n",
    "    epsilon = 0.01*cv2.arcLength(cnt,True)\n",
    "    approx = cv2.approxPolyDP(cnt,epsilon,True)\n",
    "    cv2.drawContours(im, [approx], 0, (0), 5)\n",
    "    x1,y1,w1,h1 = cv2.boundingRect(approx)\n",
    "    cv2.putText(im, \"C\", (int(x1+w1/2), int(y1+h1/2)), cv2.FONT_HERSHEY_COMPLEX, 1, (0))\n",
    "    x = approx.ravel()[0]\n",
    "    y=approx.ravel()[1]\n",
    "    if len(approx) == 3:\n",
    "        cv2.putText(im, \"Triangle\", (x, y), cv2.FONT_HERSHEY_COMPLEX, 1, (0))\n",
    "    elif len(approx) == 4:\n",
    "        x,y,w,h = cv2.boundingRect(approx)\n",
    "        rect = cv2.minAreaRect(approx)\n",
    "        if 0.95 < float(w/h) < 1.05:\n",
    "            cv2.putText(im, \"Square\", (x, y), cv2.FONT_HERSHEY_COMPLEX, 1, (0))\n",
    "        elif 2<abs(rect[2])<88:\n",
    "            cv2.putText(im, \"Diamond\",(x, y), cv2.FONT_HERSHEY_COMPLEX, 1, (0))\n",
    "        else:\n",
    "            cv2.putText(im, \"Rectangle\", (x, y), cv2.FONT_HERSHEY_COMPLEX, 1, (0))\n",
    "    elif 6 < len(approx) < 15:\n",
    "        x=approx.ravel()[2]\n",
    "        y=approx.ravel()[3]\n",
    "        cv2.putText(im, \"oval\", (x, y), cv2.FONT_HERSHEY_COMPLEX, 1, (0))\n",
    "    else:\n",
    "        cv2.putText(im, \"Circle\", (x, y), cv2.FONT_HERSHEY_COMPLEX, 1, (0))\n",
    "    "
   ]
  },
  {
   "cell_type": "code",
   "execution_count": 10,
   "metadata": {},
   "outputs": [],
   "source": [
    "cv2.imshow('img',im)\n",
    "cv2.waitKey(0)\n",
    "cv2.destroyAllWindows()"
   ]
  },
  {
   "cell_type": "code",
   "execution_count": null,
   "metadata": {},
   "outputs": [],
   "source": []
  }
 ],
 "metadata": {
  "kernelspec": {
   "display_name": "Python 3",
   "language": "python",
   "name": "python3"
  },
  "language_info": {
   "codemirror_mode": {
    "name": "ipython",
    "version": 3
   },
   "file_extension": ".py",
   "mimetype": "text/x-python",
   "name": "python",
   "nbconvert_exporter": "python",
   "pygments_lexer": "ipython3",
   "version": "3.7.7"
  }
 },
 "nbformat": 4,
 "nbformat_minor": 4
}
