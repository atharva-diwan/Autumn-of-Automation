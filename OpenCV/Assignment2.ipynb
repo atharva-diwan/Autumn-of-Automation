{
 "cells": [
  {
   "cell_type": "code",
   "execution_count": 4,
   "metadata": {},
   "outputs": [],
   "source": [
    "import cv2\n",
    "import numpy as np"
   ]
  },
  {
   "cell_type": "code",
   "execution_count": 6,
   "metadata": {},
   "outputs": [],
   "source": [
    "#translation\n",
    "img = cv2.imread('T.jpg',0)\n",
    "rows,cols = img.shape\n",
    "\n",
    "M = np.float32([[1,0,100],[0,1,50]])\n",
    "bottom_right = cv2.warpAffine(img,M,(cols,rows))\n",
    "\n",
    "cv2.imshow('img',bottom_right)\n",
    "cv2.waitKey(0)\n",
    "cv2.destroyAllWindows()"
   ]
  },
  {
   "cell_type": "code",
   "execution_count": 10,
   "metadata": {},
   "outputs": [],
   "source": [
    "#translation\n",
    "M = np.float32([[1,0,-100],[0,1,50]])\n",
    "bottom_left = cv2.warpAffine(img,M,(cols,rows))\n",
    "\n",
    "cv2.imshow('img',bottom_left)\n",
    "cv2.waitKey(0)\n",
    "cv2.destroyAllWindows()"
   ]
  },
  {
   "cell_type": "code",
   "execution_count": 8,
   "metadata": {},
   "outputs": [],
   "source": [
    "#translation\n",
    "M = np.float32([[1,0,100],[0,1,-50]])\n",
    "top_right = cv2.warpAffine(img,M,(cols,rows))\n",
    "\n",
    "cv2.imshow('img',top_right)\n",
    "cv2.waitKey(0)\n",
    "cv2.destroyAllWindows()"
   ]
  },
  {
   "cell_type": "code",
   "execution_count": 9,
   "metadata": {},
   "outputs": [],
   "source": [
    "#translation\n",
    "M = np.float32([[1,0,-100],[0,1,-50]])\n",
    "top_left = cv2.warpAffine(img,M,(cols,rows))\n",
    "\n",
    "cv2.imshow('img',top_left)\n",
    "cv2.waitKey(0)\n",
    "cv2.destroyAllWindows()"
   ]
  },
  {
   "cell_type": "code",
   "execution_count": 11,
   "metadata": {},
   "outputs": [],
   "source": [
    "#rotation\n",
    "M = cv2.getRotationMatrix2D((cols/2,rows/2),90,1)\n",
    "counter_clock_90 = cv2.warpAffine(img,M,(cols,rows))\n",
    "cv2.imshow('img',counter_clock_90)\n",
    "cv2.waitKey(0)\n",
    "cv2.destroyAllWindows()"
   ]
  },
  {
   "cell_type": "code",
   "execution_count": 12,
   "metadata": {},
   "outputs": [],
   "source": [
    "#rotation\n",
    "M = cv2.getRotationMatrix2D((cols/2,rows/2),-90,1)\n",
    "clock_90 = cv2.warpAffine(img,M,(cols,rows))\n",
    "cv2.imshow('img',clock_90)\n",
    "cv2.waitKey(0)\n",
    "cv2.destroyAllWindows()"
   ]
  },
  {
   "cell_type": "code",
   "execution_count": 13,
   "metadata": {},
   "outputs": [],
   "source": [
    "#rotation\n",
    "M = cv2.getRotationMatrix2D((cols/2,rows/2),180,1)\n",
    "counter_clock_180 = cv2.warpAffine(img,M,(cols,rows))\n",
    "cv2.imshow('img',counter_clock_180)\n",
    "cv2.waitKey(0)\n",
    "cv2.destroyAllWindows()"
   ]
  },
  {
   "cell_type": "code",
   "execution_count": 14,
   "metadata": {},
   "outputs": [],
   "source": [
    "#rotation\n",
    "M = cv2.getRotationMatrix2D((cols/2,rows/2),180,1)\n",
    "clock_180 = cv2.warpAffine(img,M,(cols,rows))\n",
    "cv2.imshow('img',clock_180)\n",
    "cv2.waitKey(0)\n",
    "cv2.destroyAllWindows()"
   ]
  },
  {
   "cell_type": "code",
   "execution_count": 20,
   "metadata": {},
   "outputs": [],
   "source": [
    "#blur\n",
    "median_blur = cv2.medianBlur(img,5)\n",
    "cv2.imshow('img',median_blur)\n",
    "cv2.waitKey(0)\n",
    "cv2.destroyAllWindows()"
   ]
  },
  {
   "cell_type": "code",
   "execution_count": 21,
   "metadata": {},
   "outputs": [],
   "source": [
    "#blur\n",
    "gaussian_blur = cv2.GaussianBlur(img,(5,5),0)\n",
    "cv2.imshow('img',gaussian_blur)\n",
    "cv2.waitKey(0)\n",
    "cv2.destroyAllWindows()"
   ]
  },
  {
   "cell_type": "code",
   "execution_count": null,
   "metadata": {},
   "outputs": [],
   "source": []
  }
 ],
 "metadata": {
  "kernelspec": {
   "display_name": "Python 3",
   "language": "python",
   "name": "python3"
  },
  "language_info": {
   "codemirror_mode": {
    "name": "ipython",
    "version": 3
   },
   "file_extension": ".py",
   "mimetype": "text/x-python",
   "name": "python",
   "nbconvert_exporter": "python",
   "pygments_lexer": "ipython3",
   "version": "3.7.7"
  }
 },
 "nbformat": 4,
 "nbformat_minor": 4
}
